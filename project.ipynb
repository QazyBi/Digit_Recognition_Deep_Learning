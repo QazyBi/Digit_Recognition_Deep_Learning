{
 "cells": [
  {
   "cell_type": "markdown",
   "metadata": {},
   "source": [
    "# Digits recognition"
   ]
  },
  {
   "cell_type": "code",
   "execution_count": 1,
   "metadata": {},
   "outputs": [],
   "source": [
    "import numpy as np\n",
    "import matplotlib.pyplot as plt\n",
    "import matplotlib.image as mpimg\n",
    "import tensorflow.compat.v2 as tf\n",
    "import mnist\n",
    "import tensorflow.compat.v2.keras.utils as tf_utils\n",
    "from tensorflow.compat.v2.keras.models import Sequential\n",
    "from tensorflow.compat.v2.keras.layers import Dense, Dropout, Flatten, Conv2D, MaxPooling2D, BatchNormalization\n",
    "from tensorflow.compat.v2.keras.callbacks import EarlyStopping, ReduceLROnPlateau\n",
    "from tensorflow.compat.v2.keras.preprocessing.image import ImageDataGenerator"
   ]
  },
  {
   "cell_type": "code",
   "execution_count": 2,
   "metadata": {},
   "outputs": [],
   "source": [
    "x_train = np.load(\"x.npy\")\n",
    "y_train = np.load(\"y.npy\")"
   ]
  },
  {
   "cell_type": "code",
   "execution_count": 3,
   "metadata": {},
   "outputs": [],
   "source": [
    "mn = mnist.load_data()"
   ]
  },
  {
   "cell_type": "code",
   "execution_count": 4,
   "metadata": {},
   "outputs": [],
   "source": [
    "x_test = np.concatenate((mn[0][0], mn[1][0]))\n",
    "y_test = np.concatenate((mn[0][1], mn[1][1]))"
   ]
  },
  {
   "cell_type": "code",
   "execution_count": 5,
   "metadata": {},
   "outputs": [],
   "source": [
    "x_train = x_train.reshape((x_train.shape[0], 28, 28, 1)).astype('float32')\n",
    "x_test = x_test.reshape((x_test.shape[0], 28, 28, 1)).astype('float32')"
   ]
  },
  {
   "cell_type": "code",
   "execution_count": 6,
   "metadata": {},
   "outputs": [],
   "source": [
    "x_train = x_train / 255\n",
    "x_test = x_test / 255"
   ]
  },
  {
   "cell_type": "code",
   "execution_count": 7,
   "metadata": {},
   "outputs": [],
   "source": [
    "y_train = tf_utils.to_categorical(y_train)\n",
    "y_test = tf_utils.to_categorical(y_test)"
   ]
  },
  {
   "cell_type": "code",
   "execution_count": 8,
   "metadata": {},
   "outputs": [],
   "source": [
    "def make_model():\n",
    "    model = Sequential()\n",
    "    model.add(Conv2D(filters=48, kernel_size=5, input_shape=(28, 28, 1), activation='relu'))\n",
    "    model.add(MaxPooling2D(pool_size=2, strides=1))\n",
    "    model.add(BatchNormalization())\n",
    "    model.add(Conv2D(filters=48, kernel_size=3, activation='relu'))\n",
    "    model.add(MaxPooling2D(pool_size=2))\n",
    "    model.add(BatchNormalization())\n",
    "\n",
    "    model.add(Flatten())\n",
    "    model.add(Dense(128, activation='relu'))\n",
    "    model.add(BatchNormalization())\n",
    "    model.add(Dropout(0.2))\n",
    "    model.add(Dense(128, activation='relu'))\n",
    "    model.add(BatchNormalization())\n",
    "    model.add(Dropout(0.2))\n",
    "\n",
    "    model.add(Dense(10, activation='softmax'))\n",
    "    \n",
    "    model.compile(loss='categorical_crossentropy', optimizer='nadam', metrics=['accuracy'])\n",
    "    return model"
   ]
  },
  {
   "cell_type": "code",
   "execution_count": 9,
   "metadata": {},
   "outputs": [
    {
     "name": "stdout",
     "output_type": "stream",
     "text": [
      "Epoch 1/10\n",
      "782/781 - 109s - loss: 0.2779 - accuracy: 0.9142 - val_loss: 0.0873 - val_accuracy: 0.9726\n",
      "Epoch 2/10\n",
      "782/781 - 110s - loss: 0.1208 - accuracy: 0.9634 - val_loss: 0.0538 - val_accuracy: 0.9835\n",
      "Epoch 3/10\n",
      "782/781 - 146s - loss: 0.0958 - accuracy: 0.9704 - val_loss: 0.0593 - val_accuracy: 0.9818\n",
      "Epoch 4/10\n",
      "782/781 - 124s - loss: 0.0850 - accuracy: 0.9740 - val_loss: 0.0555 - val_accuracy: 0.9830\n",
      "Epoch 5/10\n",
      "782/781 - 100s - loss: 0.0767 - accuracy: 0.9769 - val_loss: 0.0343 - val_accuracy: 0.9894\n",
      "Epoch 6/10\n",
      "782/781 - 100s - loss: 0.0715 - accuracy: 0.9783 - val_loss: 0.0291 - val_accuracy: 0.9914\n",
      "Epoch 7/10\n",
      "782/781 - 100s - loss: 0.0647 - accuracy: 0.9797 - val_loss: 0.0313 - val_accuracy: 0.9901\n",
      "Epoch 8/10\n",
      "782/781 - 100s - loss: 0.0602 - accuracy: 0.9821 - val_loss: 0.0234 - val_accuracy: 0.9928\n",
      "Epoch 9/10\n",
      "782/781 - 101s - loss: 0.0594 - accuracy: 0.9820 - val_loss: 0.0216 - val_accuracy: 0.9934\n",
      "Epoch 10/10\n",
      "782/781 - 103s - loss: 0.0571 - accuracy: 0.9827 - val_loss: 0.0196 - val_accuracy: 0.9940\n",
      "2188/2188 [==============================] - 30s 14ms/step - loss: 0.0196 - accuracy: 0.9940\n",
      "CNN accuracy:  0.9940142631530762\n"
     ]
    }
   ],
   "source": [
    "model = make_model()\n",
    "\n",
    "early_stopping = EarlyStopping(monitor='accuracy', patience=10, restore_best_weights=True)\n",
    "lr_schedule = ReduceLROnPlateau(monitor='accuracy', factor=0.3, patience=6)\n",
    "\n",
    "# try out featurewise_center=True \n",
    "generator = ImageDataGenerator(rotation_range=20,\n",
    "                               width_shift_range=0.1,\n",
    "                               height_shift_range=0.1,\n",
    "                               zoom_range=0.1)\n",
    "\n",
    "model.fit(generator.flow(x_train, y_train, batch_size=64),\n",
    "          validation_data=(x_test, y_test), batch_size=64,\n",
    "          epochs=10, verbose=2, steps_per_epoch = len(x_train) / 64,\n",
    "          callbacks=[early_stopping, lr_schedule])\n",
    "\n",
    "scores = model.evaluate(x_test, y_test)\n",
    "\n",
    "print(\"CNN accuracy: \", scores[1])"
   ]
  },
  {
   "cell_type": "code",
   "execution_count": 11,
   "metadata": {},
   "outputs": [],
   "source": [
    "model.save('model.h5')"
   ]
  }
 ],
 "metadata": {
  "kernelspec": {
   "display_name": "Python 3",
   "language": "python",
   "name": "python3"
  },
  "language_info": {
   "codemirror_mode": {
    "name": "ipython",
    "version": 3
   },
   "file_extension": ".py",
   "mimetype": "text/x-python",
   "name": "python",
   "nbconvert_exporter": "python",
   "pygments_lexer": "ipython3",
   "version": "3.8.5"
  }
 },
 "nbformat": 4,
 "nbformat_minor": 4
}
