{
 "cells": [
  {
   "cell_type": "markdown",
   "metadata": {},
   "source": [
    "# Digits recognition"
   ]
  },
  {
   "cell_type": "code",
   "execution_count": 18,
   "metadata": {},
   "outputs": [
    {
     "ename": "ImportError",
     "evalue": "cannot import name 'EarlyStoping' from 'tensorflow.compat.v2.keras.callbacks' (/home/qazybek/.local/lib/python3.8/site-packages/tensorflow/python/keras/api/_v2/keras/callbacks/__init__.py)",
     "output_type": "error",
     "traceback": [
      "\u001b[0;31m---------------------------------------------------------------------------\u001b[0m",
      "\u001b[0;31mImportError\u001b[0m                               Traceback (most recent call last)",
      "\u001b[0;32m<ipython-input-18-5f2952881fb2>\u001b[0m in \u001b[0;36m<module>\u001b[0;34m\u001b[0m\n\u001b[1;32m      7\u001b[0m \u001b[0;32mfrom\u001b[0m \u001b[0mtensorflow\u001b[0m\u001b[0;34m.\u001b[0m\u001b[0mcompat\u001b[0m\u001b[0;34m.\u001b[0m\u001b[0mv2\u001b[0m\u001b[0;34m.\u001b[0m\u001b[0mkeras\u001b[0m\u001b[0;34m.\u001b[0m\u001b[0mmodels\u001b[0m \u001b[0;32mimport\u001b[0m \u001b[0mSequential\u001b[0m\u001b[0;34m\u001b[0m\u001b[0;34m\u001b[0m\u001b[0m\n\u001b[1;32m      8\u001b[0m \u001b[0;32mfrom\u001b[0m \u001b[0mtensorflow\u001b[0m\u001b[0;34m.\u001b[0m\u001b[0mcompat\u001b[0m\u001b[0;34m.\u001b[0m\u001b[0mv2\u001b[0m\u001b[0;34m.\u001b[0m\u001b[0mkeras\u001b[0m\u001b[0;34m.\u001b[0m\u001b[0mlayers\u001b[0m \u001b[0;32mimport\u001b[0m \u001b[0mDense\u001b[0m\u001b[0;34m,\u001b[0m \u001b[0mDropout\u001b[0m\u001b[0;34m,\u001b[0m \u001b[0mFlatten\u001b[0m\u001b[0;34m,\u001b[0m \u001b[0mConv2D\u001b[0m\u001b[0;34m,\u001b[0m \u001b[0mMaxPooling2D\u001b[0m\u001b[0;34m\u001b[0m\u001b[0;34m\u001b[0m\u001b[0m\n\u001b[0;32m----> 9\u001b[0;31m \u001b[0;32mfrom\u001b[0m \u001b[0mtensorflow\u001b[0m\u001b[0;34m.\u001b[0m\u001b[0mcompat\u001b[0m\u001b[0;34m.\u001b[0m\u001b[0mv2\u001b[0m\u001b[0;34m.\u001b[0m\u001b[0mkeras\u001b[0m\u001b[0;34m.\u001b[0m\u001b[0mcallbacks\u001b[0m \u001b[0;32mimport\u001b[0m \u001b[0mEarlyStoping\u001b[0m\u001b[0;34m\u001b[0m\u001b[0;34m\u001b[0m\u001b[0m\n\u001b[0m",
      "\u001b[0;31mImportError\u001b[0m: cannot import name 'EarlyStoping' from 'tensorflow.compat.v2.keras.callbacks' (/home/qazybek/.local/lib/python3.8/site-packages/tensorflow/python/keras/api/_v2/keras/callbacks/__init__.py)"
     ]
    }
   ],
   "source": [
    "import numpy as np\n",
    "import matplotlib.pyplot as plt\n",
    "import matplotlib.image as mpimg\n",
    "import tensorflow.compat.v2 as tf\n",
    "import mnist\n",
    "import tensorflow.compat.v2.keras.utils as tf_utils\n",
    "from tensorflow.compat.v2.keras.models import Sequential\n",
    "from tensorflow.compat.v2.keras.layers import Dense, Dropout, Flatten, Conv2D, MaxPooling2D\n",
    "from tensorflow.compat.v2.keras.callbacks import EarlyStoping"
   ]
  },
  {
   "cell_type": "code",
   "execution_count": 7,
   "metadata": {},
   "outputs": [],
   "source": [
    "x_train = np.load(\"x.npy\")\n",
    "y_train = np.load(\"y.npy\")"
   ]
  },
  {
   "cell_type": "code",
   "execution_count": 4,
   "metadata": {},
   "outputs": [],
   "source": [
    "mn = mnist.load_data()"
   ]
  },
  {
   "cell_type": "code",
   "execution_count": 5,
   "metadata": {},
   "outputs": [],
   "source": [
    "x_test = np.concatenate((mn[0][0], mn[1][0]))\n",
    "y_test = np.concatenate((mn[0][1], mn[1][1]))"
   ]
  },
  {
   "cell_type": "code",
   "execution_count": 8,
   "metadata": {},
   "outputs": [],
   "source": [
    "x_train = x_train.reshape((x_train.shape[0], 28, 28, 1)).astype('float32')\n",
    "x_test = x_test.reshape((x_test.shape[0], 28, 28, 1)).astype('float32')"
   ]
  },
  {
   "cell_type": "code",
   "execution_count": 9,
   "metadata": {},
   "outputs": [],
   "source": [
    "x_train = x_train / 255\n",
    "x_test = x_test / 255"
   ]
  },
  {
   "cell_type": "code",
   "execution_count": 10,
   "metadata": {},
   "outputs": [],
   "source": [
    "y_train = tf_utils.to_categorical(y_train)\n",
    "y_test = tf_utils.to_categorical(y_test)"
   ]
  },
  {
   "cell_type": "code",
   "execution_count": 16,
   "metadata": {},
   "outputs": [],
   "source": [
    "def make_model():\n",
    "    model = Sequential()\n",
    "    model.add(Conv2D(filters=48, kernel_size=5, input_shape=(28, 28, 1), activation='relu'))\n",
    "    model.add(MaxPooling2D(pool_size=2, strides=1))\n",
    "#     model.add(BatchNormalization())\n",
    "    model.add(Conv2D(filters=64, kernel_size=3, activation='relu'))\n",
    "    model.add(MaxPooling2D(pool_size=2))\n",
    "#     model.add(BatchNormalization())\n",
    "\n",
    "    model.add(Flatten())\n",
    "    model.add(Dense(256, activation='relu'))\n",
    "#     model.add(BatchNormalization())\n",
    "    model.add(Dropout(0.2))\n",
    "    model.add(Dense(256, activation='relu'))\n",
    "#     model.add(BatchNormalization())\n",
    "#     model.add(Dropout(0.2))\n",
    "\n",
    "    model.add(Dense(10, activation='softmax'))\n",
    "    \n",
    "    model.compile(loss='categorical_crossentropy', optimizer='nadam', metrics=['accuracy'])\n",
    "    return model"
   ]
  },
  {
   "cell_type": "code",
   "execution_count": 17,
   "metadata": {},
   "outputs": [
    {
     "name": "stdout",
     "output_type": "stream",
     "text": [
      "Epoch 1/10\n",
      "250/250 - 114s - loss: 0.2066 - accuracy: 0.9351 - val_loss: 0.0484 - val_accuracy: 0.9852\n",
      "Epoch 2/10\n",
      "250/250 - 124s - loss: 0.0444 - accuracy: 0.9859 - val_loss: 0.0297 - val_accuracy: 0.9909\n",
      "Epoch 3/10\n",
      "250/250 - 119s - loss: 0.0311 - accuracy: 0.9900 - val_loss: 0.0318 - val_accuracy: 0.9898\n",
      "Epoch 4/10\n",
      "250/250 - 120s - loss: 0.0221 - accuracy: 0.9933 - val_loss: 0.0230 - val_accuracy: 0.9927\n",
      "Epoch 5/10\n",
      "250/250 - 121s - loss: 0.0160 - accuracy: 0.9946 - val_loss: 0.0187 - val_accuracy: 0.9944\n",
      "Epoch 6/10\n",
      "250/250 - 117s - loss: 0.0144 - accuracy: 0.9955 - val_loss: 0.0211 - val_accuracy: 0.9938\n",
      "Epoch 7/10\n",
      "250/250 - 115s - loss: 0.0134 - accuracy: 0.9956 - val_loss: 0.0148 - val_accuracy: 0.9954\n",
      "Epoch 8/10\n",
      "250/250 - 112s - loss: 0.0112 - accuracy: 0.9961 - val_loss: 0.0150 - val_accuracy: 0.9956\n",
      "Epoch 9/10\n",
      "250/250 - 112s - loss: 0.0106 - accuracy: 0.9964 - val_loss: 0.0165 - val_accuracy: 0.9952\n",
      "Epoch 10/10\n",
      "250/250 - 111s - loss: 0.0093 - accuracy: 0.9968 - val_loss: 0.0131 - val_accuracy: 0.9964\n",
      "2188/2188 [==============================] - 37s 17ms/step - loss: 0.0131 - accuracy: 0.9964\n",
      "CNN accuracy:  0.996414303779602\n"
     ]
    }
   ],
   "source": [
    "model = make_model()\n",
    "\n",
    "early_stopping = EarlyStopping(monitor='accuracy', patience=10, restore_best_weights=True)\n",
    "lr_schedule = ReduceLROnPlateau(monitor='accuracy', factor=0.3, patience=6)\n",
    "model.fit(x_train, y_train, validation_data=(x_test, y_test), epochs=10, batch_size=200, verbose=2)\n",
    "\n",
    "scores = model.evaluate(x_test, y_test)\n",
    "\n",
    "print(\"CNN accuracy: \", scores[1])"
   ]
  },
  {
   "cell_type": "code",
   "execution_count": 19,
   "metadata": {},
   "outputs": [],
   "source": [
    "model.save('model.h5')"
   ]
  }
 ],
 "metadata": {
  "kernelspec": {
   "display_name": "Python 3",
   "language": "python",
   "name": "python3"
  },
  "language_info": {
   "codemirror_mode": {
    "name": "ipython",
    "version": 3
   },
   "file_extension": ".py",
   "mimetype": "text/x-python",
   "name": "python",
   "nbconvert_exporter": "python",
   "pygments_lexer": "ipython3",
   "version": "3.8.5"
  }
 },
 "nbformat": 4,
 "nbformat_minor": 4
}
